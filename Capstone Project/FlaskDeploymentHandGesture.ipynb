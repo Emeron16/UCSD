{
 "cells": [
  {
   "cell_type": "code",
   "execution_count": 6,
   "metadata": {
    "colab": {
     "base_uri": "https://localhost:8080/"
    },
    "id": "Bc5p2nJfsxer",
    "outputId": "ebee7499-b7e4-4d21-dfde-f408200095d7",
    "scrolled": true
   },
   "outputs": [
    {
     "name": "stdout",
     "output_type": "stream",
     "text": [
      "Requirement already satisfied: pyngrok in /opt/anaconda3/lib/python3.11/site-packages (7.2.0)\n",
      "Requirement already satisfied: PyYAML>=5.1 in /opt/anaconda3/lib/python3.11/site-packages (from pyngrok) (6.0.1)\n",
      "Requirement already satisfied: flask in /opt/anaconda3/lib/python3.11/site-packages (2.2.5)\n",
      "Requirement already satisfied: Werkzeug>=2.2.2 in /opt/anaconda3/lib/python3.11/site-packages (from flask) (2.2.3)\n",
      "Requirement already satisfied: Jinja2>=3.0 in /opt/anaconda3/lib/python3.11/site-packages (from flask) (3.1.3)\n",
      "Requirement already satisfied: itsdangerous>=2.0 in /opt/anaconda3/lib/python3.11/site-packages (from flask) (2.0.1)\n",
      "Requirement already satisfied: click>=8.0 in /opt/anaconda3/lib/python3.11/site-packages (from flask) (8.1.7)\n",
      "Requirement already satisfied: MarkupSafe>=2.0 in /opt/anaconda3/lib/python3.11/site-packages (from Jinja2>=3.0->flask) (2.1.3)\n",
      "Requirement already satisfied: flasgger in /opt/anaconda3/lib/python3.11/site-packages (0.9.7.1)\n",
      "Requirement already satisfied: Flask>=0.10 in /opt/anaconda3/lib/python3.11/site-packages (from flasgger) (2.2.5)\n",
      "Requirement already satisfied: PyYAML>=3.0 in /opt/anaconda3/lib/python3.11/site-packages (from flasgger) (6.0.1)\n",
      "Requirement already satisfied: jsonschema>=3.0.1 in /opt/anaconda3/lib/python3.11/site-packages (from flasgger) (4.19.2)\n",
      "Requirement already satisfied: mistune in /opt/anaconda3/lib/python3.11/site-packages (from flasgger) (2.0.4)\n",
      "Requirement already satisfied: six>=1.10.0 in /opt/anaconda3/lib/python3.11/site-packages (from flasgger) (1.16.0)\n",
      "Requirement already satisfied: packaging in /opt/anaconda3/lib/python3.11/site-packages (from flasgger) (23.1)\n",
      "Requirement already satisfied: Werkzeug>=2.2.2 in /opt/anaconda3/lib/python3.11/site-packages (from Flask>=0.10->flasgger) (2.2.3)\n",
      "Requirement already satisfied: Jinja2>=3.0 in /opt/anaconda3/lib/python3.11/site-packages (from Flask>=0.10->flasgger) (3.1.3)\n",
      "Requirement already satisfied: itsdangerous>=2.0 in /opt/anaconda3/lib/python3.11/site-packages (from Flask>=0.10->flasgger) (2.0.1)\n",
      "Requirement already satisfied: click>=8.0 in /opt/anaconda3/lib/python3.11/site-packages (from Flask>=0.10->flasgger) (8.1.7)\n",
      "Requirement already satisfied: attrs>=22.2.0 in /opt/anaconda3/lib/python3.11/site-packages (from jsonschema>=3.0.1->flasgger) (23.1.0)\n",
      "Requirement already satisfied: jsonschema-specifications>=2023.03.6 in /opt/anaconda3/lib/python3.11/site-packages (from jsonschema>=3.0.1->flasgger) (2023.7.1)\n",
      "Requirement already satisfied: referencing>=0.28.4 in /opt/anaconda3/lib/python3.11/site-packages (from jsonschema>=3.0.1->flasgger) (0.30.2)\n",
      "Requirement already satisfied: rpds-py>=0.7.1 in /opt/anaconda3/lib/python3.11/site-packages (from jsonschema>=3.0.1->flasgger) (0.10.6)\n",
      "Requirement already satisfied: MarkupSafe>=2.0 in /opt/anaconda3/lib/python3.11/site-packages (from Jinja2>=3.0->Flask>=0.10->flasgger) (2.1.3)\n",
      "Requirement already satisfied: flask-cors in /opt/anaconda3/lib/python3.11/site-packages (5.0.0)\n",
      "Requirement already satisfied: Flask>=0.9 in /opt/anaconda3/lib/python3.11/site-packages (from flask-cors) (2.2.5)\n",
      "Requirement already satisfied: Werkzeug>=2.2.2 in /opt/anaconda3/lib/python3.11/site-packages (from Flask>=0.9->flask-cors) (2.2.3)\n",
      "Requirement already satisfied: Jinja2>=3.0 in /opt/anaconda3/lib/python3.11/site-packages (from Flask>=0.9->flask-cors) (3.1.3)\n",
      "Requirement already satisfied: itsdangerous>=2.0 in /opt/anaconda3/lib/python3.11/site-packages (from Flask>=0.9->flask-cors) (2.0.1)\n",
      "Requirement already satisfied: click>=8.0 in /opt/anaconda3/lib/python3.11/site-packages (from Flask>=0.9->flask-cors) (8.1.7)\n",
      "Requirement already satisfied: MarkupSafe>=2.0 in /opt/anaconda3/lib/python3.11/site-packages (from Jinja2>=3.0->Flask>=0.9->flask-cors) (2.1.3)\n"
     ]
    }
   ],
   "source": [
    "!pip install pyngrok\n",
    "!pip install flask\n",
    "!pip install flasgger\n",
    "!pip install flask-cors\n",
    "!pip install flask-restplus"
   ]
  },
  {
   "cell_type": "code",
   "execution_count": 1,
   "metadata": {
    "id": "RM5Jw6z_UL3p"
   },
   "outputs": [
    {
     "name": "stderr",
     "output_type": "stream",
     "text": [
      "2024-10-09 19:52:32.961227: I tensorflow/core/platform/cpu_feature_guard.cc:210] This TensorFlow binary is optimized to use available CPU instructions in performance-critical operations.\n",
      "To enable the following instructions: AVX2 FMA, in other operations, rebuild TensorFlow with the appropriate compiler flags.\n"
     ]
    }
   ],
   "source": [
    "from flask import Flask, render_template, request\n",
    "import numpy as np\n",
    "import matplotlib.pyplot as plt\n",
    "import cv2\n",
    "import tensorflow as tf\n",
    "import os\n",
    "import io\n",
    "import base64\n",
    "from tensorflow.keras.models import load_model\n",
    "from pyngrok import ngrok, conf\n",
    "import getpass\n",
    "import threading\n",
    "from flasgger import Swagger\n",
    "from flask_cors import CORS\n",
    "from datetime import datetime\n",
    "\n"
   ]
  },
  {
   "cell_type": "code",
   "execution_count": 2,
   "metadata": {
    "id": "-UE4bxXsaA7u"
   },
   "outputs": [],
   "source": [
    "code_path = '/Volumes/Datasets/HandGesture/models'\n",
    "model = load_model(os.path.join(code_path,'HagridModel1.keras'))"
   ]
  },
  {
   "cell_type": "code",
   "execution_count": 3,
   "metadata": {},
   "outputs": [
    {
     "name": "stdout",
     "output_type": "stream",
     "text": [
      " * ngrok tunnel \"https://98e5-162-84-166-153.ngrok-free.app\" -> \"http://127.0.0.1:5001\"\n",
      " * Serving Flask app '__main__'\n",
      " * Debug mode: on\n"
     ]
    },
    {
     "name": "stderr",
     "output_type": "stream",
     "text": [
      "WARNING: This is a development server. Do not use it in a production deployment. Use a production WSGI server instead.\n",
      " * Running on all addresses (0.0.0.0)\n",
      " * Running on http://127.0.0.1:5001\n",
      " * Running on http://192.168.1.156:5001\n",
      "Press CTRL+C to quit\n",
      "192.168.1.156 - - [09/Oct/2024 19:52:50] \"GET / HTTP/1.1\" 200 -\n",
      "192.168.1.156 - - [09/Oct/2024 19:52:50] \"GET /static/styles.css HTTP/1.1\" 304 -\n",
      "192.168.1.156 - - [09/Oct/2024 19:52:51] \"GET /favicon.ico HTTP/1.1\" 404 -\n",
      "127.0.0.1 - - [09/Oct/2024 19:53:12] \"GET / HTTP/1.1\" 200 -\n",
      "127.0.0.1 - - [09/Oct/2024 19:53:12] \"GET /static/styles.css HTTP/1.1\" 200 -\n",
      "127.0.0.1 - - [09/Oct/2024 19:53:13] \"GET /favicon.ico HTTP/1.1\" 404 -\n",
      "127.0.0.1 - - [09/Oct/2024 19:58:39] \"GET / HTTP/1.1\" 200 -\n",
      "127.0.0.1 - - [09/Oct/2024 19:58:39] \"GET /static/styles.css HTTP/1.1\" 304 -\n"
     ]
    },
    {
     "name": "stdout",
     "output_type": "stream",
     "text": [
      "\u001b[1m1/1\u001b[0m \u001b[32m━━━━━━━━━━━━━━━━━━━━\u001b[0m\u001b[37m\u001b[0m \u001b[1m1s\u001b[0m 679ms/step\n"
     ]
    },
    {
     "name": "stderr",
     "output_type": "stream",
     "text": [
      "127.0.0.1 - - [09/Oct/2024 19:59:55] \"POST /capture HTTP/1.1\" 200 -\n"
     ]
    },
    {
     "name": "stdout",
     "output_type": "stream",
     "text": [
      "\u001b[1m1/1\u001b[0m \u001b[32m━━━━━━━━━━━━━━━━━━━━\u001b[0m\u001b[37m\u001b[0m \u001b[1m0s\u001b[0m 37ms/step\n"
     ]
    },
    {
     "name": "stderr",
     "output_type": "stream",
     "text": [
      "127.0.0.1 - - [09/Oct/2024 20:00:05] \"POST /capture HTTP/1.1\" 200 -\n"
     ]
    },
    {
     "name": "stdout",
     "output_type": "stream",
     "text": [
      "\u001b[1m1/1\u001b[0m \u001b[32m━━━━━━━━━━━━━━━━━━━━\u001b[0m\u001b[37m\u001b[0m \u001b[1m0s\u001b[0m 34ms/step\n"
     ]
    },
    {
     "name": "stderr",
     "output_type": "stream",
     "text": [
      "127.0.0.1 - - [09/Oct/2024 20:00:12] \"POST /capture HTTP/1.1\" 200 -\n"
     ]
    },
    {
     "name": "stdout",
     "output_type": "stream",
     "text": [
      "\u001b[1m1/1\u001b[0m \u001b[32m━━━━━━━━━━━━━━━━━━━━\u001b[0m\u001b[37m\u001b[0m \u001b[1m0s\u001b[0m 31ms/step\n"
     ]
    },
    {
     "name": "stderr",
     "output_type": "stream",
     "text": [
      "127.0.0.1 - - [09/Oct/2024 20:00:22] \"POST /capture HTTP/1.1\" 200 -\n"
     ]
    },
    {
     "name": "stdout",
     "output_type": "stream",
     "text": [
      "\u001b[1m1/1\u001b[0m \u001b[32m━━━━━━━━━━━━━━━━━━━━\u001b[0m\u001b[37m\u001b[0m \u001b[1m0s\u001b[0m 34ms/step\n"
     ]
    },
    {
     "name": "stderr",
     "output_type": "stream",
     "text": [
      "127.0.0.1 - - [09/Oct/2024 20:00:31] \"POST /capture HTTP/1.1\" 200 -\n"
     ]
    }
   ],
   "source": [
    "os.environ[\"FLASK_DEBUG\"] = \"development\"\n",
    "\n",
    "app = Flask(__name__)\n",
    "swagger = Swagger(app)\n",
    "CORS(app)\n",
    "port = 5001\n",
    "\n",
    "\n",
    "# Open a ngrok tunnel to the HTTP server\n",
    "public_url = ngrok.connect(port, bind_tls=True).public_url\n",
    "print(f\" * ngrok tunnel \\\"{public_url}\\\" -> \\\"http://127.0.0.1:{port}\\\"\")\n",
    "\n",
    "\n",
    "# Update any base URLs to use the public ngrok URL\n",
    "app.config[\"BASE_URL\"] = public_url\n",
    "\n",
    "# Preprocessing function for live image input (adjust as per your model)\n",
    "def preprocess_image(img):\n",
    "    # Decode the image into a tensor\n",
    "    img = tf.convert_to_tensor(img, dtype=tf.float32)\n",
    "    img_resized = tf.image.resize(img, [224, 224])\n",
    "    # Preprocess the image using MobileNet's preprocessing function\n",
    "    img_preprocessed = tf.keras.applications.mobilenet.preprocess_input(img_resized)\n",
    "    # Add a batch dimension\n",
    "    img_batch = tf.expand_dims(img_preprocessed, axis=0)\n",
    "\n",
    "    return img_batch, img_resized\n",
    "\n",
    "\n",
    "\n",
    "def predict_model(img_batch, img_resized):\n",
    "    # Perform the prediction\n",
    "    prediction = model.predict(img_batch)\n",
    "\n",
    "    buffer = io.BytesIO()\n",
    "    plt.imshow(tf.cast(img_resized, tf.uint8))\n",
    "\n",
    "    labels = ['Dislike', 'Like', 'Mute', 'OK', 'Stop']\n",
    "    plt.title(labels[prediction.argmax()])\n",
    "    plt.axis('off')\n",
    "    plt.savefig(buffer, format='png')\n",
    "    plt.close()\n",
    "    #Encode the image to base64 string\n",
    "    buffer.seek(0)\n",
    "    image_string = base64.b64encode(buffer.read()).decode('utf-8')\n",
    "\n",
    "    return labels[prediction.argmax()], image_string\n",
    "\n",
    "\n",
    "# Define the prediction route\n",
    "@app.route('/', methods=['GET', 'POST'])\n",
    "def predict():\n",
    "\n",
    "    chart_url = None\n",
    "    if request.method == 'POST':\n",
    "\n",
    "        # Get the image from the request\n",
    "        file = request.files['file']\n",
    "        # Read the image for processing without saving it first\n",
    "        img = cv2.imdecode(np.frombuffer(file.read(), np.uint8), cv2.IMREAD_COLOR)\n",
    "\n",
    "        # Preprocess the image\n",
    "        img_batch, img_resized = preprocess_image(img)\n",
    "        \n",
    "        # Get the prediction name and the prediction image\n",
    "        prediction_name, img_prediction = predict_model(img_batch, img_resized)\n",
    "\n",
    "        # Construct the filename using the prediction name\n",
    "        filename = f\"Upload_{prediction_name}_{datetime.now().strftime('%Y%m%d_%H%M%S')}.jpg\"\n",
    "        path = '/Volumes/Datasets/SavedImages/'\n",
    "        save_path = os.path.join(path, filename)\n",
    "\n",
    "        # Save the image with the prediction name\n",
    "        cv2.imwrite(save_path, img)\n",
    "\n",
    "        # Prepare the data for displaying in HTML (data:image/png;base64, ...)\n",
    "        chart_url = f\"{img_prediction}\"\n",
    "\n",
    "    return render_template('handgestureIndex.html', chart_url =chart_url) #,int(predicted_class[0])\n",
    "\n",
    "\n",
    "# Define the capture route for webcam images\n",
    "@app.route('/capture', methods=['POST'])\n",
    "def capture():\n",
    "    data = request.form['image_base64']\n",
    "\n",
    "    # Decode the base64 image\n",
    "    image_data = data.split(',')[1]  # Strip the data:image/jpeg;base64, header\n",
    "    decoded_image = base64.b64decode(image_data)\n",
    "\n",
    "    # Convert to NumPy array and decode\n",
    "    npimg = np.frombuffer(decoded_image, np.uint8)\n",
    "    img = cv2.imdecode(npimg, cv2.IMREAD_COLOR)\n",
    "    \n",
    "\n",
    "    # Preprocess the image\n",
    "    img_batch, img_resized = preprocess_image(img)\n",
    "    prediction_name, img_prediction = predict_model(img_batch, img_resized)\n",
    "    \n",
    "    filename = f\"webcam_{prediction_name}_{datetime.now().strftime('%Y%m%d_%H%M%S')}.jpg\"\n",
    "    path = '/Volumes/Datasets/SavedImages'\n",
    "    save_path = os.path.join(path, filename)\n",
    "    cv2.imwrite(save_path, img)\n",
    "\n",
    "    # Convert prediction image to base64 for display\n",
    "    chart_url = f\"{img_prediction}\"\n",
    "\n",
    "    return {'chart_url': chart_url}  # Send back as a JSON response\n",
    "\n",
    "\n",
    "# Run the Flask app\n",
    "if __name__ == '__main__':\n",
    "    threading.Thread(target=app.run, kwargs={\"host\": \"0.0.0.0\", \"port\": 5001, \"use_reloader\": False}).start()\n"
   ]
  }
 ],
 "metadata": {
  "colab": {
   "provenance": []
  },
  "kernelspec": {
   "display_name": "Python 3 (ipykernel)",
   "language": "python",
   "name": "python3"
  },
  "language_info": {
   "codemirror_mode": {
    "name": "ipython",
    "version": 3
   },
   "file_extension": ".py",
   "mimetype": "text/x-python",
   "name": "python",
   "nbconvert_exporter": "python",
   "pygments_lexer": "ipython3",
   "version": "3.11.7"
  }
 },
 "nbformat": 4,
 "nbformat_minor": 1
}
