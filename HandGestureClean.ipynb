{
  "nbformat": 4,
  "nbformat_minor": 0,
  "metadata": {
    "colab": {
      "provenance": [],
      "authorship_tag": "ABX9TyNebJ9V74Mc2z/CjLOli4/H",
      "include_colab_link": true
    },
    "kernelspec": {
      "name": "python3",
      "display_name": "Python 3"
    },
    "language_info": {
      "name": "python"
    }
  },
  "cells": [
    {
      "cell_type": "markdown",
      "metadata": {
        "id": "view-in-github",
        "colab_type": "text"
      },
      "source": [
        "<a href=\"https://colab.research.google.com/github/Emeron16/UCSD/blob/main/HandGestureClean.ipynb\" target=\"_parent\"><img src=\"https://colab.research.google.com/assets/colab-badge.svg\" alt=\"Open In Colab\"/></a>"
      ]
    },
    {
      "cell_type": "code",
      "execution_count": null,
      "metadata": {
        "id": "Jw0gOaZDKxsF"
      },
      "outputs": [],
      "source": [
        "import os\n",
        "import pandas as pd\n",
        "import numpy as np\n",
        "import matplotlib.pyplot as plt"
      ]
    },
    {
      "cell_type": "code",
      "source": [
        "train_df = pd.read_csv('train.csv')\n",
        "train_df.info()"
      ],
      "metadata": {
        "colab": {
          "base_uri": "https://localhost:8080/"
        },
        "id": "dXMgLfCvkg0N",
        "outputId": "2d09daa8-2f94-4583-c24f-e6b25d977696"
      },
      "execution_count": null,
      "outputs": [
        {
          "output_type": "stream",
          "name": "stdout",
          "text": [
            "<class 'pandas.core.frame.DataFrame'>\n",
            "RangeIndex: 662 entries, 0 to 661\n",
            "Data columns (total 1 columns):\n",
            " #   Column                                                     Non-Null Count  Dtype \n",
            "---  ------                                                     --------------  ----- \n",
            " 0   WIN_20180925_17_08_43_Pro_Left_Swipe_new;Left_Swipe_new;0  662 non-null    object\n",
            "dtypes: object(1)\n",
            "memory usage: 5.3+ KB\n"
          ]
        }
      ]
    },
    {
      "cell_type": "code",
      "source": [
        "train_df.columns"
      ],
      "metadata": {
        "colab": {
          "base_uri": "https://localhost:8080/"
        },
        "id": "xfccXOG7lcrt",
        "outputId": "ee764a37-6c3b-4a28-f653-619e482345cd"
      },
      "execution_count": null,
      "outputs": [
        {
          "output_type": "execute_result",
          "data": {
            "text/plain": [
              "Index(['WIN_20180925_17_08_43_Pro_Left_Swipe_new;Left_Swipe_new;0'], dtype='object')"
            ]
          },
          "metadata": {},
          "execution_count": 8
        }
      ]
    },
    {
      "cell_type": "code",
      "source": [
        "val_df = pd.read_csv('val.csv')\n",
        "val_df.info()"
      ],
      "metadata": {
        "colab": {
          "base_uri": "https://localhost:8080/"
        },
        "id": "lMwqQnfGk3oX",
        "outputId": "2d94e0cb-71c0-4e73-8a28-7dc6550c293e"
      },
      "execution_count": null,
      "outputs": [
        {
          "output_type": "stream",
          "name": "stdout",
          "text": [
            "<class 'pandas.core.frame.DataFrame'>\n",
            "RangeIndex: 99 entries, 0 to 98\n",
            "Data columns (total 1 columns):\n",
            " #   Column                                                     Non-Null Count  Dtype \n",
            "---  ------                                                     --------------  ----- \n",
            " 0   WIN_20180925_17_17_04_Pro_Left_Swipe_new;Left_Swipe_new;0  99 non-null     object\n",
            "dtypes: object(1)\n",
            "memory usage: 920.0+ bytes\n"
          ]
        }
      ]
    }
  ]
}